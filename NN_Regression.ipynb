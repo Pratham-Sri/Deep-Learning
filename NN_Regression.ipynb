{
  "nbformat": 4,
  "nbformat_minor": 0,
  "metadata": {
    "colab": {
      "provenance": [],
      "gpuType": "T4",
      "mount_file_id": "1cQlxRG8m1c1OAZdhnGjTPjHzQBVovwXZ",
      "authorship_tag": "ABX9TyM4qdfMrDC6zyuuBo8SsppQ",
      "include_colab_link": true
    },
    "kernelspec": {
      "name": "python3",
      "display_name": "Python 3"
    },
    "language_info": {
      "name": "python"
    },
    "accelerator": "GPU"
  },
  "cells": [
    {
      "cell_type": "markdown",
      "metadata": {
        "id": "view-in-github",
        "colab_type": "text"
      },
      "source": [
        "<a href=\"https://colab.research.google.com/github/Pratham-Sri/Deep-Learning/blob/main/NN_Regression.ipynb\" target=\"_parent\"><img src=\"https://colab.research.google.com/assets/colab-badge.svg\" alt=\"Open In Colab\"/></a>"
      ]
    },
    {
      "cell_type": "markdown",
      "source": [
        "# Introduction to Regression with Neural Networks in Tensorflow\n",
        "There are many definitions for a regression problem but in our case, we're going to simplify it : predicting a numerical variable based on some other combination of variables, even shorter...predicting a number"
      ],
      "metadata": {
        "id": "yoGTeDjbScTX"
      }
    },
    {
      "cell_type": "code",
      "source": [
        "# Import tensorflow\n",
        "import tensorflow as tf\n",
        "print(tf.__version__)"
      ],
      "metadata": {
        "colab": {
          "base_uri": "https://localhost:8080/"
        },
        "id": "HJ02AwO7Yc1I",
        "outputId": "613c3da3-ab0f-450d-f806-48c6690c4938"
      },
      "execution_count": null,
      "outputs": [
        {
          "output_type": "stream",
          "name": "stdout",
          "text": [
            "2.15.0\n"
          ]
        }
      ]
    },
    {
      "cell_type": "markdown",
      "source": [
        "## Creating data to view and fit it"
      ],
      "metadata": {
        "id": "BddDk_O6Y7ZY"
      }
    },
    {
      "cell_type": "code",
      "source": [
        "import numpy as np\n",
        "import matplotlib.pyplot as plt\n",
        "\n",
        "# create features\n",
        "X = np.array([-7.0,-4.0,-1.0,2.0,5.0,8.0,11.0,14.0])\n",
        "\n",
        "# create labels\n",
        "y = np.array([3.0,6.0,9.0,12.0,15.0,18.0,21.0,24.0])\n",
        "\n",
        "# visualize it\n",
        "plt.scatter(X,y);"
      ],
      "metadata": {
        "colab": {
          "base_uri": "https://localhost:8080/",
          "height": 435
        },
        "id": "YVumMGCcZMhC",
        "outputId": "1e8d7741-7a59-4c95-ad82-838509defcf8"
      },
      "execution_count": null,
      "outputs": [
        {
          "output_type": "display_data",
          "data": {
            "text/plain": [
              "<Figure size 640x480 with 1 Axes>"
            ],
            "image/png": "[encoded data removed]"
          },
          "metadata": {}
        }
      ]
    },
    {
      "cell_type": "markdown",
      "source": [
        "### Input and Output shapes"
      ],
      "metadata": {
        "id": "QaLOuZMSZx0w"
      }
    },
    {
      "cell_type": "code",
      "source": [
        "# Create a demo tensor for our housing price prediction problem\n",
        "house_info = tf.constant([\"bedroom\",\"bathroom\",\"garage\"])\n",
        "house_price = tf.constant([939700])\n",
        "house_info, house_price"
      ],
      "metadata": {
        "colab": {
          "base_uri": "https://localhost:8080/"
        },
        "id": "giGTSLYRbD04",
        "outputId": "d71490dc-a809-459c-99dc-4dbd34e65bdc"
      },
      "execution_count": null,
      "outputs": [
        {
          "output_type": "execute_result",
          "data": {
            "text/plain": [
              "(<tf.Tensor: shape=(3,), dtype=string, numpy=array([b'bedroom', b'bathroom', b'garage'], dtype=object)>,\n",
              " <tf.Tensor: shape=(1,), dtype=int32, numpy=array([939700], dtype=int32)>)"
            ]
          },
          "metadata": {},
          "execution_count": 48
        }
      ]
    },
    {
      "cell_type": "code",
      "source": [
        "input_shape = X.shape\n",
        "output_shape = y.shape\n",
        "input_shape, output_shape"
      ],
      "metadata": {
        "id": "NyMYn_JCbpmz",
        "colab": {
          "base_uri": "https://localhost:8080/"
        },
        "outputId": "69bc0d68-6bec-493d-87aa-303cb3f991bb"
      },
      "execution_count": null,
      "outputs": [
        {
          "output_type": "execute_result",
          "data": {
            "text/plain": [
              "((8,), (8,))"
            ]
          },
          "metadata": {},
          "execution_count": 49
        }
      ]
    },
    {
      "cell_type": "code",
      "source": [
        "# Turn our numpy arrays into tensors\n",
        "X = tf.constant(X)\n",
        "y = tf.constant(y)\n",
        "X,y"
      ],
      "metadata": {
        "colab": {
          "base_uri": "https://localhost:8080/"
        },
        "id": "MK6Aqy-2O8dC",
        "outputId": "c0ac46da-cb61-4ebe-f76d-60af48eb0a7b"
      },
      "execution_count": null,
      "outputs": [
        {
          "output_type": "execute_result",
          "data": {
            "text/plain": [
              "(<tf.Tensor: shape=(8,), dtype=float64, numpy=array([-7., -4., -1.,  2.,  5.,  8., 11., 14.])>,\n",
              " <tf.Tensor: shape=(8,), dtype=float64, numpy=array([ 3.,  6.,  9., 12., 15., 18., 21., 24.])>)"
            ]
          },
          "metadata": {},
          "execution_count": 50
        }
      ]
    },
    {
      "cell_type": "code",
      "source": [
        "input_shape = X[0].shape\n",
        "output_shape = y[0].shape\n",
        "input_shape, output_shape"
      ],
      "metadata": {
        "colab": {
          "base_uri": "https://localhost:8080/"
        },
        "id": "MivWNSGVRF7z",
        "outputId": "5b9b40ea-963e-4061-870e-d791e41693fb"
      },
      "execution_count": null,
      "outputs": [
        {
          "output_type": "execute_result",
          "data": {
            "text/plain": [
              "(TensorShape([]), TensorShape([]))"
            ]
          },
          "metadata": {},
          "execution_count": 51
        }
      ]
    },
    {
      "cell_type": "markdown",
      "source": [
        "### Steps in modelling with Tensorflow\n",
        "1.**Creating a model** - define the input and output layers, as well hidden layers of a deep learning model.\n",
        "\n",
        "2.**Compiling a model** - define the loss function (in other words, the function which tells our model how wrong it is) and the optimizer (tells our models how to improve its patterns and learnings) and evaluation metrics (what we can use to interpret the performance of our model).\n",
        "\n",
        "3.**Fitting a model** - letting the model try to find patterns between X and y (features and labels)"
      ],
      "metadata": {
        "id": "7UHI6SnSRQSB"
      }
    },
    {
      "cell_type": "code",
      "source": [
        "# Set random seed\n",
        "tf.random.set_seed(42)\n",
        "X = tf.reshape(X, shape = (-1,1))\n",
        "\n",
        "# Create a mdoel using Sequential API\n",
        "model = tf.keras.Sequential([\n",
        "    tf.keras.layers.Dense(1)\n",
        "])\n",
        "\n",
        "# Compile the model\n",
        "model.compile(loss=tf.keras.losses.mae,\n",
        "              optimizer = tf.keras.optimizers.SGD(),\n",
        "              metrics=[\"mae\"])\n",
        "\n",
        "# Fit the model\n",
        "model.fit(X,y,epochs=5)"
      ],
      "metadata": {
        "colab": {
          "base_uri": "https://localhost:8080/"
        },
        "id": "SLpRI32dTFTI",
        "outputId": "d6fa9166-55b2-4767-a310-4054cbb16690"
      },
      "execution_count": null,
      "outputs": [
        {
          "output_type": "stream",
          "name": "stdout",
          "text": [
            "Epoch 1/5\n",
            "1/1 [==============================] - 0s 399ms/step - loss: 10.9520 - mae: 10.9520\n",
            "Epoch 2/5\n",
            "1/1 [==============================] - 0s 14ms/step - loss: 10.8195 - mae: 10.8195\n",
            "Epoch 3/5\n",
            "1/1 [==============================] - 0s 14ms/step - loss: 10.6870 - mae: 10.6870\n",
            "Epoch 4/5\n",
            "1/1 [==============================] - 0s 15ms/step - loss: 10.5545 - mae: 10.5545\n",
            "Epoch 5/5\n",
            "1/1 [==============================] - 0s 10ms/step - loss: 10.4220 - mae: 10.4220\n"
          ]
        },
        {
          "output_type": "execute_result",
          "data": {
            "text/plain": [
              "<keras.src.callbacks.History at 0x7a79a4e883a0>"
            ]
          },
          "metadata": {},
          "execution_count": 52
        }
      ]
    },
    {
      "cell_type": "code",
      "source": [
        "model.predict([17.0])"
      ],
      "metadata": {
        "colab": {
          "base_uri": "https://localhost:8080/"
        },
        "id": "YGaJJUiSaOvz",
        "outputId": "328d6c52-5e78-4a91-f823-6ed3cd7d901f"
      },
      "execution_count": null,
      "outputs": [
        {
          "output_type": "stream",
          "name": "stderr",
          "text": [
            "WARNING:tensorflow:5 out of the last 5 calls to <function Model.make_predict_function.<locals>.predict_function at 0x7a79a4e4a9e0> triggered tf.function retracing. Tracing is expensive and the excessive number of tracings could be due to (1) creating @tf.function repeatedly in a loop, (2) passing tensors with different shapes, (3) passing Python objects instead of tensors. For (1), please define your @tf.function outside of the loop. For (2), @tf.function has reduce_retracing=True option that can avoid unnecessary retracing. For (3), please refer to https://www.tensorflow.org/guide/function#controlling_retracing and https://www.tensorflow.org/api_docs/python/tf/function for  more details.\n"
          ]
        },
        {
          "output_type": "stream",
          "name": "stdout",
          "text": [
            "1/1 [==============================] - 0s 86ms/step\n"
          ]
        },
        {
          "output_type": "execute_result",
          "data": {
            "text/plain": [
              "array([[15.401129]], dtype=float32)"
            ]
          },
          "metadata": {},
          "execution_count": 53
        }
      ]
    },
    {
      "cell_type": "markdown",
      "source": [
        "### Improving our model\n",
        "1.**Creating a model** - here we might add more layers, increase the number of hidden units (all called neurons) within each of the hidden layers, change the activation function of each layer.\n",
        "\n",
        "2.**Compiling the model** - here we might change the optimization function or perhaps the **learning rate** of the optimization function.\n",
        "\n",
        "3.**Fitting the model** - here we might fit a model for more **epochs** (leave it training for longer) or on more data (give the models more examples to learn from)."
      ],
      "metadata": {
        "id": "_n9WFslScQ8O"
      }
    },
    {
      "cell_type": "code",
      "source": [
        "# Rebuilding the model\n",
        "tf.random.set_seed(42)\n",
        "# Create the model\n",
        "model = tf.keras.Sequential([\n",
        "    tf.keras.layers.Dense(1)\n",
        "])\n",
        "\n",
        "# Compile the model\n",
        "model.compile(loss = tf.keras.losses.mae,\n",
        "              optimizer = tf.keras.optimizers.SGD(),\n",
        "              metrics = [\"mae\"])\n",
        "\n",
        "# Fit the model\n",
        "model.fit(X,y,epochs = 100)"
      ],
      "metadata": {
        "colab": {
          "base_uri": "https://localhost:8080/"
        },
        "id": "abM6SYbjc5sZ",
        "outputId": "7796584c-252c-4ff9-b37c-bf4f11fea392"
      },
      "execution_count": null,
      "outputs": [
        {
          "output_type": "stream",
          "name": "stdout",
          "text": [
            "Epoch 1/100\n",
            "1/1 [==============================] - 0s 404ms/step - loss: 17.3343 - mae: 17.3343\n",
            "Epoch 2/100\n",
            "1/1 [==============================] - 0s 12ms/step - loss: 17.0531 - mae: 17.0531\n",
            "Epoch 3/100\n",
            "1/1 [==============================] - 0s 13ms/step - loss: 16.7718 - mae: 16.7718\n",
            "Epoch 4/100\n",
            "1/1 [==============================] - 0s 17ms/step - loss: 16.4906 - mae: 16.4906\n",
            "Epoch 5/100\n",
            "1/1 [==============================] - 0s 15ms/step - loss: 16.2093 - mae: 16.2093\n",
            "Epoch 6/100\n",
            "1/1 [==============================] - 0s 15ms/step - loss: 15.9280 - mae: 15.9280\n",
            "Epoch 7/100\n",
            "1/1 [==============================] - 0s 10ms/step - loss: 15.6468 - mae: 15.6468\n",
            "Epoch 8/100\n",
            "1/1 [==============================] - 0s 13ms/step - loss: 15.3656 - mae: 15.3656\n",
            "Epoch 9/100\n",
            "1/1 [==============================] - 0s 11ms/step - loss: 15.0843 - mae: 15.0843\n",
            "Epoch 10/100\n",
            "1/1 [==============================] - 0s 10ms/step - loss: 14.8349 - mae: 14.8349\n",
            "Epoch 11/100\n",
            "1/1 [==============================] - 0s 10ms/step - loss: 14.7024 - mae: 14.7024\n",
            "Epoch 12/100\n",
            "1/1 [==============================] - 0s 11ms/step - loss: 14.5700 - mae: 14.5700\n",
            "Epoch 13/100\n",
            "1/1 [==============================] - 0s 10ms/step - loss: 14.4375 - mae: 14.4375\n",
            "Epoch 14/100\n",
            "1/1 [==============================] - 0s 12ms/step - loss: 14.3050 - mae: 14.3050\n",
            "Epoch 15/100\n",
            "1/1 [==============================] - 0s 11ms/step - loss: 14.1725 - mae: 14.1725\n",
            "Epoch 16/100\n",
            "1/1 [==============================] - 0s 12ms/step - loss: 14.0399 - mae: 14.0399\n",
            "Epoch 17/100\n",
            "1/1 [==============================] - 0s 12ms/step - loss: 13.9074 - mae: 13.9074\n",
            "Epoch 18/100\n",
            "1/1 [==============================] - 0s 11ms/step - loss: 13.7750 - mae: 13.7750\n",
            "Epoch 19/100\n",
            "1/1 [==============================] - 0s 11ms/step - loss: 13.6425 - mae: 13.6425\n",
            "Epoch 20/100\n",
            "1/1 [==============================] - 0s 11ms/step - loss: 13.5100 - mae: 13.5100\n",
            "Epoch 21/100\n",
            "1/1 [==============================] - 0s 11ms/step - loss: 13.3774 - mae: 13.3774\n",
            "Epoch 22/100\n",
            "1/1 [==============================] - 0s 11ms/step - loss: 13.2450 - mae: 13.2450\n",
            "Epoch 23/100\n",
            "1/1 [==============================] - 0s 14ms/step - loss: 13.1124 - mae: 13.1124\n",
            "Epoch 24/100\n",
            "1/1 [==============================] - 0s 12ms/step - loss: 12.9799 - mae: 12.9799\n",
            "Epoch 25/100\n",
            "1/1 [==============================] - 0s 11ms/step - loss: 12.8475 - mae: 12.8475\n",
            "Epoch 26/100\n",
            "1/1 [==============================] - 0s 12ms/step - loss: 12.7150 - mae: 12.7150\n",
            "Epoch 27/100\n",
            "1/1 [==============================] - 0s 11ms/step - loss: 12.5824 - mae: 12.5824\n",
            "Epoch 28/100\n",
            "1/1 [==============================] - 0s 13ms/step - loss: 12.4499 - mae: 12.4499\n",
            "Epoch 29/100\n",
            "1/1 [==============================] - 0s 12ms/step - loss: 12.3175 - mae: 12.3175\n",
            "Epoch 30/100\n",
            "1/1 [==============================] - 0s 11ms/step - loss: 12.1849 - mae: 12.1849\n",
            "Epoch 31/100\n",
            "1/1 [==============================] - 0s 11ms/step - loss: 12.0525 - mae: 12.0525\n",
            "Epoch 32/100\n",
            "1/1 [==============================] - 0s 12ms/step - loss: 11.9200 - mae: 11.9200\n",
            "Epoch 33/100\n",
            "1/1 [==============================] - 0s 13ms/step - loss: 11.7874 - mae: 11.7874\n",
            "Epoch 34/100\n",
            "1/1 [==============================] - 0s 12ms/step - loss: 11.6550 - mae: 11.6550\n",
            "Epoch 35/100\n",
            "1/1 [==============================] - 0s 11ms/step - loss: 11.5224 - mae: 11.5224\n",
            "Epoch 36/100\n",
            "1/1 [==============================] - 0s 14ms/step - loss: 11.3899 - mae: 11.3899\n",
            "Epoch 37/100\n",
            "1/1 [==============================] - 0s 11ms/step - loss: 11.2575 - mae: 11.2575\n",
            "Epoch 38/100\n",
            "1/1 [==============================] - 0s 11ms/step - loss: 11.1249 - mae: 11.1249\n",
            "Epoch 39/100\n",
            "1/1 [==============================] - 0s 12ms/step - loss: 10.9924 - mae: 10.9924\n",
            "Epoch 40/100\n",
            "1/1 [==============================] - 0s 12ms/step - loss: 10.8599 - mae: 10.8599\n",
            "Epoch 41/100\n",
            "1/1 [==============================] - 0s 17ms/step - loss: 10.7274 - mae: 10.7274\n",
            "Epoch 42/100\n",
            "1/1 [==============================] - 0s 16ms/step - loss: 10.5949 - mae: 10.5949\n",
            "Epoch 43/100\n",
            "1/1 [==============================] - 0s 18ms/step - loss: 10.4625 - mae: 10.4625\n",
            "Epoch 44/100\n",
            "1/1 [==============================] - 0s 12ms/step - loss: 10.3299 - mae: 10.3299\n",
            "Epoch 45/100\n",
            "1/1 [==============================] - 0s 13ms/step - loss: 10.1974 - mae: 10.1974\n",
            "Epoch 46/100\n",
            "1/1 [==============================] - 0s 12ms/step - loss: 10.0649 - mae: 10.0649\n",
            "Epoch 47/100\n",
            "1/1 [==============================] - 0s 15ms/step - loss: 9.9324 - mae: 9.9324\n",
            "Epoch 48/100\n",
            "1/1 [==============================] - 0s 11ms/step - loss: 9.7999 - mae: 9.7999\n",
            "Epoch 49/100\n",
            "1/1 [==============================] - 0s 12ms/step - loss: 9.6674 - mae: 9.6674\n",
            "Epoch 50/100\n",
            "1/1 [==============================] - 0s 13ms/step - loss: 9.5349 - mae: 9.5349\n",
            "Epoch 51/100\n",
            "1/1 [==============================] - 0s 11ms/step - loss: 9.4024 - mae: 9.4024\n",
            "Epoch 52/100\n",
            "1/1 [==============================] - 0s 14ms/step - loss: 9.2699 - mae: 9.2699\n",
            "Epoch 53/100\n",
            "1/1 [==============================] - 0s 15ms/step - loss: 9.1374 - mae: 9.1374\n",
            "Epoch 54/100\n",
            "1/1 [==============================] - 0s 13ms/step - loss: 9.0049 - mae: 9.0049\n",
            "Epoch 55/100\n",
            "1/1 [==============================] - 0s 12ms/step - loss: 8.8724 - mae: 8.8724\n",
            "Epoch 56/100\n",
            "1/1 [==============================] - 0s 12ms/step - loss: 8.7400 - mae: 8.7400\n",
            "Epoch 57/100\n",
            "1/1 [==============================] - 0s 17ms/step - loss: 8.6075 - mae: 8.6075\n",
            "Epoch 58/100\n",
            "1/1 [==============================] - 0s 12ms/step - loss: 8.4749 - mae: 8.4749\n",
            "Epoch 59/100\n",
            "1/1 [==============================] - 0s 13ms/step - loss: 8.3425 - mae: 8.3425\n",
            "Epoch 60/100\n",
            "1/1 [==============================] - 0s 12ms/step - loss: 8.2099 - mae: 8.2099\n",
            "Epoch 61/100\n",
            "1/1 [==============================] - 0s 11ms/step - loss: 8.0775 - mae: 8.0775\n",
            "Epoch 62/100\n",
            "1/1 [==============================] - 0s 12ms/step - loss: 7.9450 - mae: 7.9450\n",
            "Epoch 63/100\n",
            "1/1 [==============================] - 0s 12ms/step - loss: 7.8125 - mae: 7.8125\n",
            "Epoch 64/100\n",
            "1/1 [==============================] - 0s 12ms/step - loss: 7.6800 - mae: 7.6800\n",
            "Epoch 65/100\n",
            "1/1 [==============================] - 0s 11ms/step - loss: 7.5475 - mae: 7.5475\n",
            "Epoch 66/100\n",
            "1/1 [==============================] - 0s 12ms/step - loss: 7.4150 - mae: 7.4150\n",
            "Epoch 67/100\n",
            "1/1 [==============================] - 0s 12ms/step - loss: 7.2825 - mae: 7.2825\n",
            "Epoch 68/100\n",
            "1/1 [==============================] - 0s 11ms/step - loss: 7.1500 - mae: 7.1500\n",
            "Epoch 69/100\n",
            "1/1 [==============================] - 0s 16ms/step - loss: 7.0175 - mae: 7.0175\n",
            "Epoch 70/100\n",
            "1/1 [==============================] - 0s 11ms/step - loss: 6.9994 - mae: 6.9994\n",
            "Epoch 71/100\n",
            "1/1 [==============================] - 0s 11ms/step - loss: 6.9938 - mae: 6.9938\n",
            "Epoch 72/100\n",
            "1/1 [==============================] - 0s 13ms/step - loss: 6.9881 - mae: 6.9881\n",
            "Epoch 73/100\n",
            "1/1 [==============================] - 0s 12ms/step - loss: 6.9825 - mae: 6.9825\n",
            "Epoch 74/100\n",
            "1/1 [==============================] - 0s 11ms/step - loss: 6.9769 - mae: 6.9769\n",
            "Epoch 75/100\n",
            "1/1 [==============================] - 0s 11ms/step - loss: 6.9713 - mae: 6.9713\n",
            "Epoch 76/100\n",
            "1/1 [==============================] - 0s 11ms/step - loss: 6.9656 - mae: 6.9656\n",
            "Epoch 77/100\n",
            "1/1 [==============================] - 0s 11ms/step - loss: 6.9600 - mae: 6.9600\n",
            "Epoch 78/100\n",
            "1/1 [==============================] - 0s 10ms/step - loss: 6.9544 - mae: 6.9544\n",
            "Epoch 79/100\n",
            "1/1 [==============================] - 0s 11ms/step - loss: 6.9488 - mae: 6.9488\n",
            "Epoch 80/100\n",
            "1/1 [==============================] - 0s 12ms/step - loss: 6.9431 - mae: 6.9431\n",
            "Epoch 81/100\n",
            "1/1 [==============================] - 0s 13ms/step - loss: 6.9375 - mae: 6.9375\n",
            "Epoch 82/100\n",
            "1/1 [==============================] - 0s 11ms/step - loss: 6.9319 - mae: 6.9319\n",
            "Epoch 83/100\n",
            "1/1 [==============================] - 0s 13ms/step - loss: 6.9263 - mae: 6.9263\n",
            "Epoch 84/100\n",
            "1/1 [==============================] - 0s 12ms/step - loss: 6.9206 - mae: 6.9206\n",
            "Epoch 85/100\n",
            "1/1 [==============================] - 0s 11ms/step - loss: 6.9150 - mae: 6.9150\n",
            "Epoch 86/100\n",
            "1/1 [==============================] - 0s 15ms/step - loss: 6.9094 - mae: 6.9094\n",
            "Epoch 87/100\n",
            "1/1 [==============================] - 0s 15ms/step - loss: 6.9038 - mae: 6.9038\n",
            "Epoch 88/100\n",
            "1/1 [==============================] - 0s 11ms/step - loss: 6.8981 - mae: 6.8981\n",
            "Epoch 89/100\n",
            "1/1 [==============================] - 0s 11ms/step - loss: 6.8925 - mae: 6.8925\n",
            "Epoch 90/100\n",
            "1/1 [==============================] - 0s 12ms/step - loss: 6.8869 - mae: 6.8869\n",
            "Epoch 91/100\n",
            "1/1 [==============================] - 0s 12ms/step - loss: 6.8813 - mae: 6.8813\n",
            "Epoch 92/100\n",
            "1/1 [==============================] - 0s 11ms/step - loss: 6.8756 - mae: 6.8756\n",
            "Epoch 93/100\n",
            "1/1 [==============================] - 0s 11ms/step - loss: 6.8700 - mae: 6.8700\n",
            "Epoch 94/100\n",
            "1/1 [==============================] - 0s 12ms/step - loss: 6.8644 - mae: 6.8644\n",
            "Epoch 95/100\n",
            "1/1 [==============================] - 0s 12ms/step - loss: 6.8588 - mae: 6.8588\n",
            "Epoch 96/100\n",
            "1/1 [==============================] - 0s 13ms/step - loss: 6.8531 - mae: 6.8531\n",
            "Epoch 97/100\n",
            "1/1 [==============================] - 0s 12ms/step - loss: 6.8475 - mae: 6.8475\n",
            "Epoch 98/100\n",
            "1/1 [==============================] - 0s 12ms/step - loss: 6.8419 - mae: 6.8419\n",
            "Epoch 99/100\n",
            "1/1 [==============================] - 0s 11ms/step - loss: 6.8363 - mae: 6.8363\n",
            "Epoch 100/100\n",
            "1/1 [==============================] - 0s 14ms/step - loss: 6.8306 - mae: 6.8306\n"
          ]
        },
        {
          "output_type": "execute_result",
          "data": {
            "text/plain": [
              "<keras.src.callbacks.History at 0x7a79a4d22380>"
            ]
          },
          "metadata": {},
          "execution_count": 54
        }
      ]
    },
    {
      "cell_type": "code",
      "source": [
        "X,y"
      ],
      "metadata": {
        "colab": {
          "base_uri": "https://localhost:8080/"
        },
        "id": "9-5I9XP8hdTI",
        "outputId": "e1a0bdec-b463-4dc4-a786-93a6513f4122"
      },
      "execution_count": null,
      "outputs": [
        {
          "output_type": "execute_result",
          "data": {
            "text/plain": [
              "(<tf.Tensor: shape=(8, 1), dtype=float64, numpy=\n",
              " array([[-7.],\n",
              "        [-4.],\n",
              "        [-1.],\n",
              "        [ 2.],\n",
              "        [ 5.],\n",
              "        [ 8.],\n",
              "        [11.],\n",
              "        [14.]])>,\n",
              " <tf.Tensor: shape=(8,), dtype=float64, numpy=array([ 3.,  6.,  9., 12., 15., 18., 21., 24.])>)"
            ]
          },
          "metadata": {},
          "execution_count": 55
        }
      ]
    },
    {
      "cell_type": "code",
      "source": [
        "model.predict([17.0])"
      ],
      "metadata": {
        "colab": {
          "base_uri": "https://localhost:8080/"
        },
        "id": "-GM8UM3Ah8vF",
        "outputId": "5a0c2dee-3c04-422d-9693-9bda5825b6cc"
      },
      "execution_count": null,
      "outputs": [
        {
          "output_type": "stream",
          "name": "stderr",
          "text": [
            "WARNING:tensorflow:6 out of the last 6 calls to <function Model.make_predict_function.<locals>.predict_function at 0x7a79a4ea0790> triggered tf.function retracing. Tracing is expensive and the excessive number of tracings could be due to (1) creating @tf.function repeatedly in a loop, (2) passing tensors with different shapes, (3) passing Python objects instead of tensors. For (1), please define your @tf.function outside of the loop. For (2), @tf.function has reduce_retracing=True option that can avoid unnecessary retracing. For (3), please refer to https://www.tensorflow.org/guide/function#controlling_retracing and https://www.tensorflow.org/api_docs/python/tf/function for  more details.\n"
          ]
        },
        {
          "output_type": "stream",
          "name": "stdout",
          "text": [
            "1/1 [==============================] - 0s 74ms/step\n"
          ]
        },
        {
          "output_type": "execute_result",
          "data": {
            "text/plain": [
              "array([[29.788094]], dtype=float32)"
            ]
          },
          "metadata": {},
          "execution_count": 56
        }
      ]
    },
    {
      "cell_type": "code",
      "source": [
        "# Rebuilding the model\n",
        "tf.random.set_seed(42)\n",
        "# Create the model\n",
        "model = tf.keras.Sequential([\n",
        "    tf.keras.layers.Dense(100, activation = \"relu\"),\n",
        "    tf.keras.layers.Dense(1)\n",
        "])\n",
        "\n",
        "# Compile the model\n",
        "model.compile(loss = tf.keras.losses.mae,\n",
        "              optimizer = tf.keras.optimizers.Adam(lr = 0.01),\n",
        "              metrics = [\"mae\"])\n",
        "\n",
        "# Fit the model\n",
        "model.fit(X,y,epochs = 100)"
      ],
      "metadata": {
        "colab": {
          "base_uri": "https://localhost:8080/"
        },
        "id": "zLi0e4i2iBno",
        "outputId": "1542ea23-7958-48ad-fc44-cf7beb41d0b6"
      },
      "execution_count": null,
      "outputs": [
        {
          "output_type": "stream",
          "name": "stderr",
          "text": [
            "WARNING:absl:`lr` is deprecated in Keras optimizer, please use `learning_rate` or use the legacy optimizer, e.g.,tf.keras.optimizers.legacy.Adam.\n"
          ]
        },
        {
          "output_type": "stream",
          "name": "stdout",
          "text": [
            "Epoch 1/100\n",
            "1/1 [==============================] - 1s 645ms/step - loss: 14.3733 - mae: 14.3733\n",
            "Epoch 2/100\n",
            "1/1 [==============================] - 0s 16ms/step - loss: 14.2795 - mae: 14.2795\n",
            "Epoch 3/100\n",
            "1/1 [==============================] - 0s 18ms/step - loss: 14.1859 - mae: 14.1859\n",
            "Epoch 4/100\n",
            "1/1 [==============================] - 0s 21ms/step - loss: 14.0927 - mae: 14.0927\n",
            "Epoch 5/100\n",
            "1/1 [==============================] - 0s 15ms/step - loss: 13.9998 - mae: 13.9998\n",
            "Epoch 6/100\n",
            "1/1 [==============================] - 0s 15ms/step - loss: 13.9069 - mae: 13.9069\n",
            "Epoch 7/100\n",
            "1/1 [==============================] - 0s 12ms/step - loss: 13.8143 - mae: 13.8143\n",
            "Epoch 8/100\n",
            "1/1 [==============================] - 0s 14ms/step - loss: 13.7217 - mae: 13.7217\n",
            "Epoch 9/100\n",
            "1/1 [==============================] - 0s 16ms/step - loss: 13.6294 - mae: 13.6294\n",
            "Epoch 10/100\n",
            "1/1 [==============================] - 0s 18ms/step - loss: 13.5372 - mae: 13.5372\n",
            "Epoch 11/100\n",
            "1/1 [==============================] - 0s 12ms/step - loss: 13.4456 - mae: 13.4456\n",
            "Epoch 12/100\n",
            "1/1 [==============================] - 0s 12ms/step - loss: 13.3543 - mae: 13.3543\n",
            "Epoch 13/100\n",
            "1/1 [==============================] - 0s 14ms/step - loss: 13.2631 - mae: 13.2631\n",
            "Epoch 14/100\n",
            "1/1 [==============================] - 0s 13ms/step - loss: 13.1723 - mae: 13.1723\n",
            "Epoch 15/100\n",
            "1/1 [==============================] - 0s 12ms/step - loss: 13.0816 - mae: 13.0816\n",
            "Epoch 16/100\n",
            "1/1 [==============================] - 0s 12ms/step - loss: 12.9911 - mae: 12.9911\n",
            "Epoch 17/100\n",
            "1/1 [==============================] - 0s 14ms/step - loss: 12.9008 - mae: 12.9008\n",
            "Epoch 18/100\n",
            "1/1 [==============================] - 0s 13ms/step - loss: 12.8105 - mae: 12.8105\n",
            "Epoch 19/100\n",
            "1/1 [==============================] - 0s 13ms/step - loss: 12.7203 - mae: 12.7203\n",
            "Epoch 20/100\n",
            "1/1 [==============================] - 0s 12ms/step - loss: 12.6300 - mae: 12.6300\n",
            "Epoch 21/100\n",
            "1/1 [==============================] - 0s 13ms/step - loss: 12.5399 - mae: 12.5399\n",
            "Epoch 22/100\n",
            "1/1 [==============================] - 0s 17ms/step - loss: 12.4497 - mae: 12.4497\n",
            "Epoch 23/100\n",
            "1/1 [==============================] - 0s 16ms/step - loss: 12.3594 - mae: 12.3594\n",
            "Epoch 24/100\n",
            "1/1 [==============================] - 0s 20ms/step - loss: 12.2688 - mae: 12.2688\n",
            "Epoch 25/100\n",
            "1/1 [==============================] - 0s 20ms/step - loss: 12.1782 - mae: 12.1782\n",
            "Epoch 26/100\n",
            "1/1 [==============================] - 0s 17ms/step - loss: 12.0877 - mae: 12.0877\n",
            "Epoch 27/100\n",
            "1/1 [==============================] - 0s 15ms/step - loss: 11.9972 - mae: 11.9972\n",
            "Epoch 28/100\n",
            "1/1 [==============================] - 0s 12ms/step - loss: 11.9066 - mae: 11.9066\n",
            "Epoch 29/100\n",
            "1/1 [==============================] - 0s 15ms/step - loss: 11.8159 - mae: 11.8159\n",
            "Epoch 30/100\n",
            "1/1 [==============================] - 0s 21ms/step - loss: 11.7252 - mae: 11.7252\n",
            "Epoch 31/100\n",
            "1/1 [==============================] - 0s 15ms/step - loss: 11.6343 - mae: 11.6343\n",
            "Epoch 32/100\n",
            "1/1 [==============================] - 0s 13ms/step - loss: 11.5433 - mae: 11.5433\n",
            "Epoch 33/100\n",
            "1/1 [==============================] - 0s 15ms/step - loss: 11.4523 - mae: 11.4523\n",
            "Epoch 34/100\n",
            "1/1 [==============================] - 0s 17ms/step - loss: 11.3612 - mae: 11.3612\n",
            "Epoch 35/100\n",
            "1/1 [==============================] - 0s 16ms/step - loss: 11.2906 - mae: 11.2906\n",
            "Epoch 36/100\n",
            "1/1 [==============================] - 0s 16ms/step - loss: 11.2267 - mae: 11.2267\n",
            "Epoch 37/100\n",
            "1/1 [==============================] - 0s 14ms/step - loss: 11.1624 - mae: 11.1624\n",
            "Epoch 38/100\n",
            "1/1 [==============================] - 0s 16ms/step - loss: 11.0977 - mae: 11.0977\n",
            "Epoch 39/100\n",
            "1/1 [==============================] - 0s 15ms/step - loss: 11.0327 - mae: 11.0327\n",
            "Epoch 40/100\n",
            "1/1 [==============================] - 0s 19ms/step - loss: 10.9674 - mae: 10.9674\n",
            "Epoch 41/100\n",
            "1/1 [==============================] - 0s 13ms/step - loss: 10.9018 - mae: 10.9018\n",
            "Epoch 42/100\n",
            "1/1 [==============================] - 0s 18ms/step - loss: 10.8359 - mae: 10.8359\n",
            "Epoch 43/100\n",
            "1/1 [==============================] - 0s 16ms/step - loss: 10.7697 - mae: 10.7697\n",
            "Epoch 44/100\n",
            "1/1 [==============================] - 0s 17ms/step - loss: 10.7033 - mae: 10.7033\n",
            "Epoch 45/100\n",
            "1/1 [==============================] - 0s 15ms/step - loss: 10.6367 - mae: 10.6367\n",
            "Epoch 46/100\n",
            "1/1 [==============================] - 0s 16ms/step - loss: 10.5699 - mae: 10.5699\n",
            "Epoch 47/100\n",
            "1/1 [==============================] - 0s 19ms/step - loss: 10.5029 - mae: 10.5029\n",
            "Epoch 48/100\n",
            "1/1 [==============================] - 0s 16ms/step - loss: 10.4359 - mae: 10.4359\n",
            "Epoch 49/100\n",
            "1/1 [==============================] - 0s 17ms/step - loss: 10.3688 - mae: 10.3688\n",
            "Epoch 50/100\n",
            "1/1 [==============================] - 0s 17ms/step - loss: 10.3015 - mae: 10.3015\n",
            "Epoch 51/100\n",
            "1/1 [==============================] - 0s 14ms/step - loss: 10.2340 - mae: 10.2340\n",
            "Epoch 52/100\n",
            "1/1 [==============================] - 0s 18ms/step - loss: 10.1663 - mae: 10.1663\n",
            "Epoch 53/100\n",
            "1/1 [==============================] - 0s 13ms/step - loss: 10.0985 - mae: 10.0985\n",
            "Epoch 54/100\n",
            "1/1 [==============================] - 0s 11ms/step - loss: 10.0304 - mae: 10.0304\n",
            "Epoch 55/100\n",
            "1/1 [==============================] - 0s 14ms/step - loss: 9.9620 - mae: 9.9620\n",
            "Epoch 56/100\n",
            "1/1 [==============================] - 0s 12ms/step - loss: 9.8935 - mae: 9.8935\n",
            "Epoch 57/100\n",
            "1/1 [==============================] - 0s 12ms/step - loss: 9.8247 - mae: 9.8247\n",
            "Epoch 58/100\n",
            "1/1 [==============================] - 0s 12ms/step - loss: 9.7557 - mae: 9.7557\n",
            "Epoch 59/100\n",
            "1/1 [==============================] - 0s 13ms/step - loss: 9.6865 - mae: 9.6865\n",
            "Epoch 60/100\n",
            "1/1 [==============================] - 0s 12ms/step - loss: 9.6172 - mae: 9.6172\n",
            "Epoch 61/100\n",
            "1/1 [==============================] - 0s 14ms/step - loss: 9.5476 - mae: 9.5476\n",
            "Epoch 62/100\n",
            "1/1 [==============================] - 0s 15ms/step - loss: 9.4778 - mae: 9.4778\n",
            "Epoch 63/100\n",
            "1/1 [==============================] - 0s 14ms/step - loss: 9.4078 - mae: 9.4078\n",
            "Epoch 64/100\n",
            "1/1 [==============================] - 0s 12ms/step - loss: 9.3378 - mae: 9.3378\n",
            "Epoch 65/100\n",
            "1/1 [==============================] - 0s 16ms/step - loss: 9.2676 - mae: 9.2676\n",
            "Epoch 66/100\n",
            "1/1 [==============================] - 0s 15ms/step - loss: 9.1973 - mae: 9.1973\n",
            "Epoch 67/100\n",
            "1/1 [==============================] - 0s 13ms/step - loss: 9.1271 - mae: 9.1271\n",
            "Epoch 68/100\n",
            "1/1 [==============================] - 0s 17ms/step - loss: 9.0568 - mae: 9.0568\n",
            "Epoch 69/100\n",
            "1/1 [==============================] - 0s 14ms/step - loss: 8.9864 - mae: 8.9864\n",
            "Epoch 70/100\n",
            "1/1 [==============================] - 0s 12ms/step - loss: 8.9156 - mae: 8.9156\n",
            "Epoch 71/100\n",
            "1/1 [==============================] - 0s 12ms/step - loss: 8.8447 - mae: 8.8447\n",
            "Epoch 72/100\n",
            "1/1 [==============================] - 0s 11ms/step - loss: 8.7736 - mae: 8.7736\n",
            "Epoch 73/100\n",
            "1/1 [==============================] - 0s 12ms/step - loss: 8.7024 - mae: 8.7024\n",
            "Epoch 74/100\n",
            "1/1 [==============================] - 0s 12ms/step - loss: 8.6309 - mae: 8.6309\n",
            "Epoch 75/100\n",
            "1/1 [==============================] - 0s 10ms/step - loss: 8.5593 - mae: 8.5593\n",
            "Epoch 76/100\n",
            "1/1 [==============================] - 0s 13ms/step - loss: 8.4875 - mae: 8.4875\n",
            "Epoch 77/100\n",
            "1/1 [==============================] - 0s 13ms/step - loss: 8.4153 - mae: 8.4153\n",
            "Epoch 78/100\n",
            "1/1 [==============================] - 0s 15ms/step - loss: 8.3429 - mae: 8.3429\n",
            "Epoch 79/100\n",
            "1/1 [==============================] - 0s 14ms/step - loss: 8.2702 - mae: 8.2702\n",
            "Epoch 80/100\n",
            "1/1 [==============================] - 0s 14ms/step - loss: 8.1972 - mae: 8.1972\n",
            "Epoch 81/100\n",
            "1/1 [==============================] - 0s 14ms/step - loss: 8.1239 - mae: 8.1239\n",
            "Epoch 82/100\n",
            "1/1 [==============================] - 0s 21ms/step - loss: 8.0504 - mae: 8.0504\n",
            "Epoch 83/100\n",
            "1/1 [==============================] - 0s 14ms/step - loss: 7.9765 - mae: 7.9765\n",
            "Epoch 84/100\n",
            "1/1 [==============================] - 0s 15ms/step - loss: 7.9023 - mae: 7.9023\n",
            "Epoch 85/100\n",
            "1/1 [==============================] - 0s 15ms/step - loss: 7.8279 - mae: 7.8279\n",
            "Epoch 86/100\n",
            "1/1 [==============================] - 0s 15ms/step - loss: 7.7531 - mae: 7.7531\n",
            "Epoch 87/100\n",
            "1/1 [==============================] - 0s 15ms/step - loss: 7.6781 - mae: 7.6781\n",
            "Epoch 88/100\n",
            "1/1 [==============================] - 0s 12ms/step - loss: 7.6029 - mae: 7.6029\n",
            "Epoch 89/100\n",
            "1/1 [==============================] - 0s 11ms/step - loss: 7.5274 - mae: 7.5274\n",
            "Epoch 90/100\n",
            "1/1 [==============================] - 0s 15ms/step - loss: 7.4516 - mae: 7.4516\n",
            "Epoch 91/100\n",
            "1/1 [==============================] - 0s 14ms/step - loss: 7.3756 - mae: 7.3756\n",
            "Epoch 92/100\n",
            "1/1 [==============================] - 0s 13ms/step - loss: 7.2993 - mae: 7.2993\n",
            "Epoch 93/100\n",
            "1/1 [==============================] - 0s 14ms/step - loss: 7.2230 - mae: 7.2230\n",
            "Epoch 94/100\n",
            "1/1 [==============================] - 0s 13ms/step - loss: 7.1464 - mae: 7.1464\n",
            "Epoch 95/100\n",
            "1/1 [==============================] - 0s 13ms/step - loss: 7.0695 - mae: 7.0695\n",
            "Epoch 96/100\n",
            "1/1 [==============================] - 0s 13ms/step - loss: 6.9922 - mae: 6.9922\n",
            "Epoch 97/100\n",
            "1/1 [==============================] - 0s 13ms/step - loss: 6.9148 - mae: 6.9148\n",
            "Epoch 98/100\n",
            "1/1 [==============================] - 0s 13ms/step - loss: 6.8369 - mae: 6.8369\n",
            "Epoch 99/100\n",
            "1/1 [==============================] - 0s 13ms/step - loss: 6.7590 - mae: 6.7590\n",
            "Epoch 100/100\n",
            "1/1 [==============================] - 0s 17ms/step - loss: 6.6807 - mae: 6.6807\n"
          ]
        },
        {
          "output_type": "execute_result",
          "data": {
            "text/plain": [
              "<keras.src.callbacks.History at 0x7a79a4bfd030>"
            ]
          },
          "metadata": {},
          "execution_count": 57
        }
      ]
    },
    {
      "cell_type": "code",
      "source": [
        "X,y"
      ],
      "metadata": {
        "colab": {
          "base_uri": "https://localhost:8080/"
        },
        "id": "xA17CGuglRwQ",
        "outputId": "c37d7480-b124-4758-81e3-d43424b23953"
      },
      "execution_count": null,
      "outputs": [
        {
          "output_type": "execute_result",
          "data": {
            "text/plain": [
              "(<tf.Tensor: shape=(8, 1), dtype=float64, numpy=\n",
              " array([[-7.],\n",
              "        [-4.],\n",
              "        [-1.],\n",
              "        [ 2.],\n",
              "        [ 5.],\n",
              "        [ 8.],\n",
              "        [11.],\n",
              "        [14.]])>,\n",
              " <tf.Tensor: shape=(8,), dtype=float64, numpy=array([ 3.,  6.,  9., 12., 15., 18., 21., 24.])>)"
            ]
          },
          "metadata": {},
          "execution_count": 58
        }
      ]
    },
    {
      "cell_type": "code",
      "source": [
        "model.predict([17.0])"
      ],
      "metadata": {
        "colab": {
          "base_uri": "https://localhost:8080/"
        },
        "id": "We5EdYt5lZOz",
        "outputId": "163f1a39-381b-444e-a39b-56b9b38fd990"
      },
      "execution_count": null,
      "outputs": [
        {
          "output_type": "stream",
          "name": "stdout",
          "text": [
            "1/1 [==============================] - 0s 240ms/step\n"
          ]
        },
        {
          "output_type": "execute_result",
          "data": {
            "text/plain": [
              "array([[20.167635]], dtype=float32)"
            ]
          },
          "metadata": {},
          "execution_count": 59
        }
      ]
    },
    {
      "cell_type": "markdown",
      "source": [
        "## Common ways to improve a deep model:\n",
        "1. Adding layers\n",
        "2. Increase the number of hidden units\n",
        "3. Change the activation functions\n",
        "4. Change the optimization function\n",
        "5. Changing the learning rate (Maybe the most important hyperparameter for a neural network)\n",
        "6. Fitting more data\n",
        "7. Fitting more longer"
      ],
      "metadata": {
        "id": "oIYR-q_ulbRi"
      }
    },
    {
      "cell_type": "markdown",
      "source": [
        "## Evaluating model\n",
        "\n",
        "Typical workflow while building neural networks is:\n",
        "\n",
        "Build a model -> fit it -> tweak a model -> fit it -> evaluate it -> tweak a model -> fit it -> evaluate it....."
      ],
      "metadata": {
        "id": "kPNtdDNkzgpI"
      }
    },
    {
      "cell_type": "markdown",
      "source": [
        "While evaluating we should visualize the data:\n",
        "* The data - what data are we working with? what does it look like?\n",
        "* The model itself - what does our model look like?\n",
        "* The training of a model - how does our model perform while it learns?\n",
        "* The predictions of a model - how do the predictions of a model line up against the ground truth (the original labels)?"
      ],
      "metadata": {
        "id": "o_0OgV4vz-Bu"
      }
    },
    {
      "cell_type": "code",
      "source": [
        "# Make a bigger dataset\n",
        "X = tf.range(-100,100,4)\n",
        "X"
      ],
      "metadata": {
        "colab": {
          "base_uri": "https://localhost:8080/"
        },
        "id": "AuRduRa3LFpR",
        "outputId": "44c75cf2-34cf-4251-93bb-3fe9001d55f8"
      },
      "execution_count": null,
      "outputs": [
        {
          "output_type": "execute_result",
          "data": {
            "text/plain": [
              "<tf.Tensor: shape=(50,), dtype=int32, numpy=\n",
              "array([-100,  -96,  -92,  -88,  -84,  -80,  -76,  -72,  -68,  -64,  -60,\n",
              "        -56,  -52,  -48,  -44,  -40,  -36,  -32,  -28,  -24,  -20,  -16,\n",
              "        -12,   -8,   -4,    0,    4,    8,   12,   16,   20,   24,   28,\n",
              "         32,   36,   40,   44,   48,   52,   56,   60,   64,   68,   72,\n",
              "         76,   80,   84,   88,   92,   96], dtype=int32)>"
            ]
          },
          "metadata": {},
          "execution_count": 60
        }
      ]
    },
    {
      "cell_type": "code",
      "source": [
        "# Make labels for our dataset\n",
        "y = X + 10\n",
        "y"
      ],
      "metadata": {
        "colab": {
          "base_uri": "https://localhost:8080/"
        },
        "id": "zavRXI-0LLg-",
        "outputId": "aceab7a3-76d7-461f-f177-7fa1568d1d00"
      },
      "execution_count": null,
      "outputs": [
        {
          "output_type": "execute_result",
          "data": {
            "text/plain": [
              "<tf.Tensor: shape=(50,), dtype=int32, numpy=\n",
              "array([-90, -86, -82, -78, -74, -70, -66, -62, -58, -54, -50, -46, -42,\n",
              "       -38, -34, -30, -26, -22, -18, -14, -10,  -6,  -2,   2,   6,  10,\n",
              "        14,  18,  22,  26,  30,  34,  38,  42,  46,  50,  54,  58,  62,\n",
              "        66,  70,  74,  78,  82,  86,  90,  94,  98, 102, 106], dtype=int32)>"
            ]
          },
          "metadata": {},
          "execution_count": 61
        }
      ]
    },
    {
      "cell_type": "code",
      "source": [
        "# Visualize the data\n",
        "import matplotlib.pyplot as plt\n",
        "plt.scatter(X,y)"
      ],
      "metadata": {
        "colab": {
          "base_uri": "https://localhost:8080/",
          "height": 447
        },
        "id": "9y5ULOImLTKl",
        "outputId": "9135fdde-39b1-4e5f-dcf8-6d46b4b6a044"
      },
      "execution_count": null,
      "outputs": [
        {
          "output_type": "execute_result",
          "data": {
            "text/plain": [
              "<matplotlib.collections.PathCollection at 0x7a79a4aff6d0>"
            ]
          },
          "metadata": {},
          "execution_count": 62
        },
        {
          "output_type": "display_data",
          "data": {
            "text/plain": [
              "<Figure size 640x480 with 1 Axes>"
            ],
            "image/png": "[encoded data removed]"
          },
          "metadata": {}
        }
      ]
    },
    {
      "cell_type": "markdown",
      "source": [
        "# The 3 sets\n",
        "\n",
        "* **The training set** - the model learns from this data, which is typically 70-80% of the total data you have available.\n",
        "* **Validation set** - the model gets tuned on this data, which is typically 10-15% of the data available.\n",
        "* **Test set** - the model gets evaluated on this data to test what it has learned, this set is typically 10-15% of the total data available."
      ],
      "metadata": {
        "id": "69cl2bc9LZVK"
      }
    },
    {
      "cell_type": "code",
      "source": [
        "# Check the data available\n",
        "len(X)"
      ],
      "metadata": {
        "colab": {
          "base_uri": "https://localhost:8080/"
        },
        "id": "H42wTmtjMbiH",
        "outputId": "a3b53e79-32c4-4b31-8ec7-b4525a30e773"
      },
      "execution_count": null,
      "outputs": [
        {
          "output_type": "execute_result",
          "data": {
            "text/plain": [
              "50"
            ]
          },
          "metadata": {},
          "execution_count": 87
        }
      ]
    },
    {
      "cell_type": "code",
      "source": [
        "# Split the data into training and test sets\n",
        "X_train = X[:40] # first 40 examples (80% of the data)\n",
        "y_train = y[:40]\n",
        "\n",
        "X_test = X[40:50] # last 10 examples (20% of the data)\n",
        "y_test = y[40:50]\n",
        "\n",
        "len(X_train), len(y_train), len(X_test), len(y_test)"
      ],
      "metadata": {
        "colab": {
          "base_uri": "https://localhost:8080/"
        },
        "id": "81AEAb80M-xV",
        "outputId": "a5acab87-27fd-44d1-dce8-275bfdd4671b"
      },
      "execution_count": null,
      "outputs": [
        {
          "output_type": "execute_result",
          "data": {
            "text/plain": [
              "(40, 40, 10, 10)"
            ]
          },
          "metadata": {},
          "execution_count": 88
        }
      ]
    },
    {
      "cell_type": "code",
      "source": [
        "plt.figure(figsize = (5,5))\n",
        "plt.scatter(X_train, y_train, c = \"b\", label = \"Training data\")\n",
        "plt.scatter(X_test, y_test, c = \"g\", label = \"Testing data\")\n",
        "plt.legend()"
      ],
      "metadata": {
        "colab": {
          "base_uri": "https://localhost:8080/",
          "height": 462
        },
        "id": "4eiyB19FNrpT",
        "outputId": "7ec1e3ce-07dd-4b70-8813-b17eb3935202"
      },
      "execution_count": null,
      "outputs": [
        {
          "output_type": "execute_result",
          "data": {
            "text/plain": [
              "<matplotlib.legend.Legend at 0x7a79a4b6e8f0>"
            ]
          },
          "metadata": {},
          "execution_count": 65
        },
        {
          "output_type": "display_data",
          "data": {
            "text/plain": [
              "<Figure size 500x500 with 1 Axes>"
            ],
            "image/png": "[encoded data removed]"
          },
          "metadata": {}
        }
      ]
    },
    {
      "cell_type": "code",
      "source": [
        "# Create a model\n",
        "model = tf.keras.Sequential([\n",
        "    tf.keras.layers.Dense(1)\n",
        "])\n",
        "\n",
        "# Compile the model\n",
        "model.compile(loss = tf.keras.losses.mae,\n",
        "              optimizer = tf.keras.optimizers.SGD(),\n",
        "              metrics = [\"mae\"])\n",
        "\n",
        "# Fit the model\n",
        "#model.fit(X_train, y_train, epochs = 100)"
      ],
      "metadata": {
        "id": "ZQQhCV4bON05"
      },
      "execution_count": null,
      "outputs": []
    },
    {
      "cell_type": "code",
      "source": [
        "# Let's build a model which builds automatically by defining the input shape argument the first layer\n",
        "np.random.seed(42)\n",
        "\n",
        "# Create a model\n",
        "model = tf.keras.Sequential([\n",
        "    tf.keras.layers.Dense(1, input_shape = [1]),\n",
        "    tf.keras.layers.Dense(100, activation = \"relu\"),\n",
        "    tf.keras.layers.Dense(1,name = \"output_layer\")\n",
        "],name = \"OLay\")\n",
        "\n",
        "# Compile the model\n",
        "model.compile(loss = tf.keras.losses.mae,\n",
        "              optimizer = tf.keras.optimizers.SGD(),\n",
        "              metrics = [\"mae\"])"
      ],
      "metadata": {
        "id": "VkytGWyCR7i9"
      },
      "execution_count": null,
      "outputs": []
    },
    {
      "cell_type": "code",
      "source": [
        "model.summary()"
      ],
      "metadata": {
        "colab": {
          "base_uri": "https://localhost:8080/"
        },
        "id": "MPGxw5puTE_G",
        "outputId": "fb78bb31-8b0a-4ead-dc0d-5add12f513d9"
      },
      "execution_count": null,
      "outputs": [
        {
          "output_type": "stream",
          "name": "stdout",
          "text": [
            "Model: \"OLay\"\n",
            "_________________________________________________________________\n",
            " Layer (type)                Output Shape              Param #   \n",
            "=================================================================\n",
            " dense_16 (Dense)            (None, 1)                 2         \n",
            "                                                                 \n",
            " dense_17 (Dense)            (None, 100)               200       \n",
            "                                                                 \n",
            " output_layer (Dense)        (None, 1)                 101       \n",
            "                                                                 \n",
            "=================================================================\n",
            "Total params: 303 (1.18 KB)\n",
            "Trainable params: 303 (1.18 KB)\n",
            "Non-trainable params: 0 (0.00 Byte)\n",
            "_________________________________________________________________\n"
          ]
        }
      ]
    },
    {
      "cell_type": "markdown",
      "source": [
        "* **Total params** - total number of parameters in the model.\n",
        "* **Trainable parameters** - these are parameters (patterns) the model can update as it trains.\n",
        "* **Non-trainable params** - these parameters aren't updated during training (this is typical when you bring in already learnt patterns or parameters from other models during **transfer training**)."
      ],
      "metadata": {
        "id": "kVpcajl2TLQP"
      }
    },
    {
      "cell_type": "code",
      "source": [
        "model.fit(X_train, y_train, epochs = 100, verbose = 0)"
      ],
      "metadata": {
        "colab": {
          "base_uri": "https://localhost:8080/"
        },
        "id": "Gp5COzdMUXrU",
        "outputId": "4ab2e11c-0c58-4fc3-a604-dc6057cfc792"
      },
      "execution_count": null,
      "outputs": [
        {
          "output_type": "execute_result",
          "data": {
            "text/plain": [
              "<keras.src.callbacks.History at 0x7a79a4b2b9a0>"
            ]
          },
          "metadata": {},
          "execution_count": 69
        }
      ]
    },
    {
      "cell_type": "code",
      "source": [
        "model.summary()"
      ],
      "metadata": {
        "colab": {
          "base_uri": "https://localhost:8080/"
        },
        "id": "-q-OhTVnbcry",
        "outputId": "01f72747-03e6-4407-95cb-b6327f78c84e"
      },
      "execution_count": null,
      "outputs": [
        {
          "output_type": "stream",
          "name": "stdout",
          "text": [
            "Model: \"OLay\"\n",
            "_________________________________________________________________\n",
            " Layer (type)                Output Shape              Param #   \n",
            "=================================================================\n",
            " dense_16 (Dense)            (None, 1)                 2         \n",
            "                                                                 \n",
            " dense_17 (Dense)            (None, 100)               200       \n",
            "                                                                 \n",
            " output_layer (Dense)        (None, 1)                 101       \n",
            "                                                                 \n",
            "=================================================================\n",
            "Total params: 303 (1.18 KB)\n",
            "Trainable params: 303 (1.18 KB)\n",
            "Non-trainable params: 0 (0.00 Byte)\n",
            "_________________________________________________________________\n"
          ]
        }
      ]
    },
    {
      "cell_type": "code",
      "source": [
        "from tensorflow.keras.utils import plot_model\n",
        "plot_model(model = model, show_shapes = True,show_layer_activations = True)"
      ],
      "metadata": {
        "colab": {
          "base_uri": "https://localhost:8080/",
          "height": 422
        },
        "id": "4CchZ-T5buh5",
        "outputId": "d4b289d4-f509-4cc8-d85d-85d96ec5a43f"
      },
      "execution_count": null,
      "outputs": [
        {
          "output_type": "execute_result",
          "data": {
            "image/png": "[encoded data removed]",
            "text/plain": [
              "<IPython.core.display.Image object>"
            ]
          },
          "metadata": {},
          "execution_count": 71
        }
      ]
    },
    {
      "cell_type": "markdown",
      "source": [
        "### Visualizing our model's predictions\n",
        "\n",
        "To visualize predictions, it's goof idea to plot them against the ground truth labels\n",
        "\n",
        "Often you'll see this in the form of `y_test` or `y_true` versus `y_preds`(ground truth versus your model's predictions)."
      ],
      "metadata": {
        "id": "hsmqmM20cHCF"
      }
    },
    {
      "cell_type": "code",
      "source": [
        "y_pred = model.predict(X_test)\n",
        "y_pred"
      ],
      "metadata": {
        "colab": {
          "base_uri": "https://localhost:8080/",
          "height": 686
        },
        "id": "cAKmCMwJgIhA",
        "outputId": "b1259c92-67f2-47b4-ac1c-82c29bbbfc13"
      },
      "execution_count": null,
      "outputs": [
        {
          "output_type": "error",
          "ename": "ValueError",
          "evalue": "in user code:\n\n    File \"/usr/local/lib/python3.10/dist-packages/keras/src/engine/training.py\", line 2440, in predict_function  *\n        return step_function(self, iterator)\n    File \"/usr/local/lib/python3.10/dist-packages/keras/src/engine/training.py\", line 2425, in step_function  **\n        outputs = model.distribute_strategy.run(run_step, args=(data,))\n    File \"/usr/local/lib/python3.10/dist-packages/keras/src/engine/training.py\", line 2413, in run_step  **\n        outputs = model.predict_step(data)\n    File \"/usr/local/lib/python3.10/dist-packages/keras/src/engine/training.py\", line 2381, in predict_step\n        return self(x, training=False)\n    File \"/usr/local/lib/python3.10/dist-packages/keras/src/utils/traceback_utils.py\", line 70, in error_handler\n        raise e.with_traceback(filtered_tb) from None\n    File \"/usr/local/lib/python3.10/dist-packages/keras/src/engine/input_spec.py\", line 253, in assert_input_compatibility\n        raise ValueError(\n\n    ValueError: Exception encountered when calling layer 'sequential_13' (type Sequential).\n    \n    Input 0 of layer \"dense_19\" is incompatible with the layer: expected min_ndim=2, found ndim=1. Full shape received: (None,)\n    \n    Call arguments received by layer 'sequential_13' (type Sequential):\n      • inputs=tf.Tensor(shape=(None,), dtype=int32)\n      • training=False\n      • mask=None\n",
          "traceback": [
            "\u001b[0;31m---------------------------------------------------------------------------\u001b[0m",
            "\u001b[0;31mValueError\u001b[0m                                Traceback (most recent call last)",
            "\u001b[0;32m<ipython-input-90-4a34179a7374>\u001b[0m in \u001b[0;36m<cell line: 1>\u001b[0;34m()\u001b[0m\n\u001b[0;32m----> 1\u001b[0;31m \u001b[0my_pred\u001b[0m \u001b[0;34m=\u001b[0m \u001b[0mmodel\u001b[0m\u001b[0;34m.\u001b[0m\u001b[0mpredict\u001b[0m\u001b[0;34m(\u001b[0m\u001b[0mX_test\u001b[0m\u001b[0;34m)\u001b[0m\u001b[0;34m\u001b[0m\u001b[0;34m\u001b[0m\u001b[0m\n\u001b[0m\u001b[1;32m      2\u001b[0m \u001b[0my_pred\u001b[0m\u001b[0;34m\u001b[0m\u001b[0;34m\u001b[0m\u001b[0m\n",
            "\u001b[0;32m/usr/local/lib/python3.10/dist-packages/keras/src/utils/traceback_utils.py\u001b[0m in \u001b[0;36merror_handler\u001b[0;34m(*args, **kwargs)\u001b[0m\n\u001b[1;32m     68\u001b[0m             \u001b[0;31m# To get the full stack trace, call:\u001b[0m\u001b[0;34m\u001b[0m\u001b[0;34m\u001b[0m\u001b[0m\n\u001b[1;32m     69\u001b[0m             \u001b[0;31m# `tf.debugging.disable_traceback_filtering()`\u001b[0m\u001b[0;34m\u001b[0m\u001b[0;34m\u001b[0m\u001b[0m\n\u001b[0;32m---> 70\u001b[0;31m             \u001b[0;32mraise\u001b[0m \u001b[0me\u001b[0m\u001b[0;34m.\u001b[0m\u001b[0mwith_traceback\u001b[0m\u001b[0;34m(\u001b[0m\u001b[0mfiltered_tb\u001b[0m\u001b[0;34m)\u001b[0m \u001b[0;32mfrom\u001b[0m \u001b[0;32mNone\u001b[0m\u001b[0;34m\u001b[0m\u001b[0;34m\u001b[0m\u001b[0m\n\u001b[0m\u001b[1;32m     71\u001b[0m         \u001b[0;32mfinally\u001b[0m\u001b[0;34m:\u001b[0m\u001b[0;34m\u001b[0m\u001b[0;34m\u001b[0m\u001b[0m\n\u001b[1;32m     72\u001b[0m             \u001b[0;32mdel\u001b[0m \u001b[0mfiltered_tb\u001b[0m\u001b[0;34m\u001b[0m\u001b[0;34m\u001b[0m\u001b[0m\n",
            "\u001b[0;32m/usr/local/lib/python3.10/dist-packages/keras/src/engine/training.py\u001b[0m in \u001b[0;36mtf__predict_function\u001b[0;34m(iterator)\u001b[0m\n\u001b[1;32m     13\u001b[0m                 \u001b[0;32mtry\u001b[0m\u001b[0;34m:\u001b[0m\u001b[0;34m\u001b[0m\u001b[0;34m\u001b[0m\u001b[0m\n\u001b[1;32m     14\u001b[0m                     \u001b[0mdo_return\u001b[0m \u001b[0;34m=\u001b[0m \u001b[0;32mTrue\u001b[0m\u001b[0;34m\u001b[0m\u001b[0;34m\u001b[0m\u001b[0m\n\u001b[0;32m---> 15\u001b[0;31m                     \u001b[0mretval_\u001b[0m \u001b[0;34m=\u001b[0m \u001b[0mag__\u001b[0m\u001b[0;34m.\u001b[0m\u001b[0mconverted_call\u001b[0m\u001b[0;34m(\u001b[0m\u001b[0mag__\u001b[0m\u001b[0;34m.\u001b[0m\u001b[0mld\u001b[0m\u001b[0;34m(\u001b[0m\u001b[0mstep_function\u001b[0m\u001b[0;34m)\u001b[0m\u001b[0;34m,\u001b[0m \u001b[0;34m(\u001b[0m\u001b[0mag__\u001b[0m\u001b[0;34m.\u001b[0m\u001b[0mld\u001b[0m\u001b[0;34m(\u001b[0m\u001b[0mself\u001b[0m\u001b[0;34m)\u001b[0m\u001b[0;34m,\u001b[0m \u001b[0mag__\u001b[0m\u001b[0;34m.\u001b[0m\u001b[0mld\u001b[0m\u001b[0;34m(\u001b[0m\u001b[0miterator\u001b[0m\u001b[0;34m)\u001b[0m\u001b[0;34m)\u001b[0m\u001b[0;34m,\u001b[0m \u001b[0;32mNone\u001b[0m\u001b[0;34m,\u001b[0m \u001b[0mfscope\u001b[0m\u001b[0;34m)\u001b[0m\u001b[0;34m\u001b[0m\u001b[0;34m\u001b[0m\u001b[0m\n\u001b[0m\u001b[1;32m     16\u001b[0m                 \u001b[0;32mexcept\u001b[0m\u001b[0;34m:\u001b[0m\u001b[0;34m\u001b[0m\u001b[0;34m\u001b[0m\u001b[0m\n\u001b[1;32m     17\u001b[0m                     \u001b[0mdo_return\u001b[0m \u001b[0;34m=\u001b[0m \u001b[0;32mFalse\u001b[0m\u001b[0;34m\u001b[0m\u001b[0;34m\u001b[0m\u001b[0m\n",
            "\u001b[0;31mValueError\u001b[0m: in user code:\n\n    File \"/usr/local/lib/python3.10/dist-packages/keras/src/engine/training.py\", line 2440, in predict_function  *\n        return step_function(self, iterator)\n    File \"/usr/local/lib/python3.10/dist-packages/keras/src/engine/training.py\", line 2425, in step_function  **\n        outputs = model.distribute_strategy.run(run_step, args=(data,))\n    File \"/usr/local/lib/python3.10/dist-packages/keras/src/engine/training.py\", line 2413, in run_step  **\n        outputs = model.predict_step(data)\n    File \"/usr/local/lib/python3.10/dist-packages/keras/src/engine/training.py\", line 2381, in predict_step\n        return self(x, training=False)\n    File \"/usr/local/lib/python3.10/dist-packages/keras/src/utils/traceback_utils.py\", line 70, in error_handler\n        raise e.with_traceback(filtered_tb) from None\n    File \"/usr/local/lib/python3.10/dist-packages/keras/src/engine/input_spec.py\", line 253, in assert_input_compatibility\n        raise ValueError(\n\n    ValueError: Exception encountered when calling layer 'sequential_13' (type Sequential).\n    \n    Input 0 of layer \"dense_19\" is incompatible with the layer: expected min_ndim=2, found ndim=1. Full shape received: (None,)\n    \n    Call arguments received by layer 'sequential_13' (type Sequential):\n      • inputs=tf.Tensor(shape=(None,), dtype=int32)\n      • training=False\n      • mask=None\n"
          ]
        }
      ]
    },
    {
      "cell_type": "code",
      "source": [
        "y_test"
      ],
      "metadata": {
        "colab": {
          "base_uri": "https://localhost:8080/"
        },
        "id": "NKTvEPcWgMKt",
        "outputId": "8377c7c1-0e5f-4b46-aced-176bf80d4921"
      },
      "execution_count": null,
      "outputs": [
        {
          "output_type": "execute_result",
          "data": {
            "text/plain": [
              "<tf.Tensor: shape=(10,), dtype=int32, numpy=array([ 70,  74,  78,  82,  86,  90,  94,  98, 102, 106], dtype=int32)>"
            ]
          },
          "metadata": {},
          "execution_count": 73
        }
      ]
    },
    {
      "cell_type": "code",
      "source": [
        "# Let's create a plotting function\n",
        "def plot_predictions(train_data = X_train,\n",
        "                     train_labels = y_train,\n",
        "                     test_data = X_test,\n",
        "                     test_labels = y_test,\n",
        "                     predictions = y_pred):\n",
        "  \"\"\"\n",
        "  Plots training data, test data and compares predictions.\n",
        "  \"\"\"\n",
        "  plt.figure(figsize = (10,7))\n",
        "  # Plot training data in blue\n",
        "  plt.scatter(train_data, train_labels, c = \"b\", label = \"Training data\")\n",
        "  #  Plot testing data in green\n",
        "  plt.scatter(test_data, test_labels, c = \"g\", label = \"Testing data\")\n",
        "  # Plot model's predictions in red\n",
        "  plt.scatter(test_data, predictions, c = \"r\", label = \"Predictions\")\n",
        "  # Show the legend\n",
        "  plt.legend()"
      ],
      "metadata": {
        "id": "ttXNkWojgROR"
      },
      "execution_count": null,
      "outputs": []
    },
    {
      "cell_type": "code",
      "source": [
        "plot_predictions(train_data=X_train, train_labels=y_train, test_data=X_test, test_labels=y_test, predictions=y_pred)"
      ],
      "metadata": {
        "colab": {
          "base_uri": "https://localhost:8080/",
          "height": 599
        },
        "id": "5oFQhXZJg1sC",
        "outputId": "bfb73625-583d-4c5a-8264-6290711ef40d"
      },
      "execution_count": null,
      "outputs": [
        {
          "output_type": "display_data",
          "data": {
            "text/plain": [
              "<Figure size 1000x700 with 1 Axes>"
            ],
            "image/png": "[encoded data removed]"
          },
          "metadata": {}
        }
      ]
    },
    {
      "cell_type": "code",
      "source": [
        "model.evaluate(X_test, y_test)"
      ],
      "metadata": {
        "colab": {
          "base_uri": "https://localhost:8080/"
        },
        "id": "756B9tfQhBPL",
        "outputId": "a4ffb274-e7e1-4a12-d8c2-70250c56e4bb"
      },
      "execution_count": null,
      "outputs": [
        {
          "output_type": "stream",
          "name": "stdout",
          "text": [
            "1/1 [==============================] - 0s 144ms/step - loss: 24.1751 - mae: 24.1751\n"
          ]
        },
        {
          "output_type": "execute_result",
          "data": {
            "text/plain": [
              "[24.175098419189453, 24.175098419189453]"
            ]
          },
          "metadata": {},
          "execution_count": 76
        }
      ]
    },
    {
      "cell_type": "code",
      "source": [
        "mae = tf.metrics.mean_absolute_error(y_test, y_pred)\n",
        "mae"
      ],
      "metadata": {
        "colab": {
          "base_uri": "https://localhost:8080/"
        },
        "id": "pWGgy-z-h5Zq",
        "outputId": "ae7b6f63-176f-45d7-968b-54def99d7cf4"
      },
      "execution_count": null,
      "outputs": [
        {
          "output_type": "execute_result",
          "data": {
            "text/plain": [
              "<tf.Tensor: shape=(10,), dtype=float32, numpy=\n",
              "array([10.      , 10.449007, 12.375735, 16.106915, 21.327942, 27.022253,\n",
              "       32.716568, 38.410866, 44.105164, 49.7995  ], dtype=float32)>"
            ]
          },
          "metadata": {},
          "execution_count": 77
        }
      ]
    },
    {
      "cell_type": "code",
      "source": [
        "tf.constant(y_pred)"
      ],
      "metadata": {
        "colab": {
          "base_uri": "https://localhost:8080/"
        },
        "id": "0xAG_eDVvr90",
        "outputId": "59a020a7-a8cb-443b-de45-439d84f0b467"
      },
      "execution_count": null,
      "outputs": [
        {
          "output_type": "execute_result",
          "data": {
            "text/plain": [
              "<tf.Tensor: shape=(10, 1), dtype=float32, numpy=\n",
              "array([[ 86.55072 ],\n",
              "       [ 92.24503 ],\n",
              "       [ 97.93934 ],\n",
              "       [103.633644],\n",
              "       [109.32794 ],\n",
              "       [115.022255],\n",
              "       [120.71657 ],\n",
              "       [126.410866],\n",
              "       [132.10516 ],\n",
              "       [137.7995  ]], dtype=float32)>"
            ]
          },
          "metadata": {},
          "execution_count": 78
        }
      ]
    },
    {
      "cell_type": "code",
      "source": [
        "mae  = tf.metrics.mean_absolute_error(y_test, tf.squeeze(y_pred))\n",
        "mae"
      ],
      "metadata": {
        "colab": {
          "base_uri": "https://localhost:8080/"
        },
        "id": "kVITyd0cwzI7",
        "outputId": "20c5f903-ba26-40f8-f263-51c42cd8a637"
      },
      "execution_count": null,
      "outputs": [
        {
          "output_type": "execute_result",
          "data": {
            "text/plain": [
              "<tf.Tensor: shape=(), dtype=float32, numpy=24.175104>"
            ]
          },
          "metadata": {},
          "execution_count": 79
        }
      ]
    },
    {
      "cell_type": "code",
      "source": [
        "mse = tf.metrics.mean_squared_error(y_test, tf.squeeze(y_pred))\n",
        "mse"
      ],
      "metadata": {
        "colab": {
          "base_uri": "https://localhost:8080/"
        },
        "id": "m0JE_O8fxve0",
        "outputId": "ff2883b0-23ca-469d-b53d-2a33bca82eaf"
      },
      "execution_count": null,
      "outputs": [
        {
          "output_type": "execute_result",
          "data": {
            "text/plain": [
              "<tf.Tensor: shape=(), dtype=float32, numpy=608.11865>"
            ]
          },
          "metadata": {},
          "execution_count": 80
        }
      ]
    },
    {
      "cell_type": "code",
      "source": [
        "def mae(y_test, y_pred):\n",
        "  return tf.metrics.mean_absolute_error(y_test, tf.squeeze(y_pred))\n",
        "\n",
        "def mse(y_true, y_pred):\n",
        "  return tf.metrics.mean_squared_error(y_true,tf.squeeze(y_pred))"
      ],
      "metadata": {
        "id": "1f1wA8fMyE-y"
      },
      "execution_count": null,
      "outputs": []
    },
    {
      "cell_type": "code",
      "source": [
        "X_train = X_train[-1:1]\n",
        "len(X_train)"
      ],
      "metadata": {
        "colab": {
          "base_uri": "https://localhost:8080/"
        },
        "id": "93fd1MZJzq4G",
        "outputId": "8dd1df8e-7daf-4d70-c59e-334001638964"
      },
      "execution_count": null,
      "outputs": [
        {
          "output_type": "execute_result",
          "data": {
            "text/plain": [
              "0"
            ]
          },
          "metadata": {},
          "execution_count": 86
        }
      ]
    },
    {
      "cell_type": "code",
      "source": [
        "tf.random.set_seed(42)\n",
        "\n",
        "model_1 = tf.keras.Sequential([\n",
        "    tf.keras.layers.Dense(1)\n",
        "])\n",
        "\n",
        "model_1.compile(loss = tf.keras.losses.mae,\n",
        "                optimizer = tf.keras.optimizers.SGD(),\n",
        "                metrics = [\"mae\"])\n",
        "\n",
        "model_1.fit(X_train, y_train, epochs = 100)"
      ],
      "metadata": {
        "colab": {
          "base_uri": "https://localhost:8080/",
          "height": 720
        },
        "id": "9AkAOMllyjyU",
        "outputId": "e091c130-2e16-41a6-871b-7415774357ba"
      },
      "execution_count": null,
      "outputs": [
        {
          "output_type": "stream",
          "name": "stdout",
          "text": [
            "Epoch 1/100\n"
          ]
        },
        {
          "output_type": "error",
          "ename": "ValueError",
          "evalue": "in user code:\n\n    File \"/usr/local/lib/python3.10/dist-packages/keras/src/engine/training.py\", line 1401, in train_function  *\n        return step_function(self, iterator)\n    File \"/usr/local/lib/python3.10/dist-packages/keras/src/engine/training.py\", line 1384, in step_function  **\n        outputs = model.distribute_strategy.run(run_step, args=(data,))\n    File \"/usr/local/lib/python3.10/dist-packages/keras/src/engine/training.py\", line 1373, in run_step  **\n        outputs = model.train_step(data)\n    File \"/usr/local/lib/python3.10/dist-packages/keras/src/engine/training.py\", line 1150, in train_step\n        y_pred = self(x, training=True)\n    File \"/usr/local/lib/python3.10/dist-packages/keras/src/utils/traceback_utils.py\", line 70, in error_handler\n        raise e.with_traceback(filtered_tb) from None\n    File \"/usr/local/lib/python3.10/dist-packages/keras/src/engine/input_spec.py\", line 253, in assert_input_compatibility\n        raise ValueError(\n\n    ValueError: Exception encountered when calling layer 'sequential_14' (type Sequential).\n    \n    Input 0 of layer \"dense_20\" is incompatible with the layer: expected min_ndim=2, found ndim=1. Full shape received: (None,)\n    \n    Call arguments received by layer 'sequential_14' (type Sequential):\n      • inputs=tf.Tensor(shape=(None,), dtype=int32)\n      • training=True\n      • mask=None\n",
          "traceback": [
            "\u001b[0;31m---------------------------------------------------------------------------\u001b[0m",
            "\u001b[0;31mValueError\u001b[0m                                Traceback (most recent call last)",
            "\u001b[0;32m<ipython-input-91-0f2ee784b05d>\u001b[0m in \u001b[0;36m<cell line: 11>\u001b[0;34m()\u001b[0m\n\u001b[1;32m      9\u001b[0m                 metrics = [\"mae\"])\n\u001b[1;32m     10\u001b[0m \u001b[0;34m\u001b[0m\u001b[0m\n\u001b[0;32m---> 11\u001b[0;31m \u001b[0mmodel_1\u001b[0m\u001b[0;34m.\u001b[0m\u001b[0mfit\u001b[0m\u001b[0;34m(\u001b[0m\u001b[0mX_train\u001b[0m\u001b[0;34m,\u001b[0m \u001b[0my_train\u001b[0m\u001b[0;34m,\u001b[0m \u001b[0mepochs\u001b[0m \u001b[0;34m=\u001b[0m \u001b[0;36m100\u001b[0m\u001b[0;34m)\u001b[0m\u001b[0;34m\u001b[0m\u001b[0;34m\u001b[0m\u001b[0m\n\u001b[0m",
            "\u001b[0;32m/usr/local/lib/python3.10/dist-packages/keras/src/utils/traceback_utils.py\u001b[0m in \u001b[0;36merror_handler\u001b[0;34m(*args, **kwargs)\u001b[0m\n\u001b[1;32m     68\u001b[0m             \u001b[0;31m# To get the full stack trace, call:\u001b[0m\u001b[0;34m\u001b[0m\u001b[0;34m\u001b[0m\u001b[0m\n\u001b[1;32m     69\u001b[0m             \u001b[0;31m# `tf.debugging.disable_traceback_filtering()`\u001b[0m\u001b[0;34m\u001b[0m\u001b[0;34m\u001b[0m\u001b[0m\n\u001b[0;32m---> 70\u001b[0;31m             \u001b[0;32mraise\u001b[0m \u001b[0me\u001b[0m\u001b[0;34m.\u001b[0m\u001b[0mwith_traceback\u001b[0m\u001b[0;34m(\u001b[0m\u001b[0mfiltered_tb\u001b[0m\u001b[0;34m)\u001b[0m \u001b[0;32mfrom\u001b[0m \u001b[0;32mNone\u001b[0m\u001b[0;34m\u001b[0m\u001b[0;34m\u001b[0m\u001b[0m\n\u001b[0m\u001b[1;32m     71\u001b[0m         \u001b[0;32mfinally\u001b[0m\u001b[0;34m:\u001b[0m\u001b[0;34m\u001b[0m\u001b[0;34m\u001b[0m\u001b[0m\n\u001b[1;32m     72\u001b[0m             \u001b[0;32mdel\u001b[0m \u001b[0mfiltered_tb\u001b[0m\u001b[0;34m\u001b[0m\u001b[0;34m\u001b[0m\u001b[0m\n",
            "\u001b[0;32m/usr/local/lib/python3.10/dist-packages/keras/src/engine/training.py\u001b[0m in \u001b[0;36mtf__train_function\u001b[0;34m(iterator)\u001b[0m\n\u001b[1;32m     13\u001b[0m                 \u001b[0;32mtry\u001b[0m\u001b[0;34m:\u001b[0m\u001b[0;34m\u001b[0m\u001b[0;34m\u001b[0m\u001b[0m\n\u001b[1;32m     14\u001b[0m                     \u001b[0mdo_return\u001b[0m \u001b[0;34m=\u001b[0m \u001b[0;32mTrue\u001b[0m\u001b[0;34m\u001b[0m\u001b[0;34m\u001b[0m\u001b[0m\n\u001b[0;32m---> 15\u001b[0;31m                     \u001b[0mretval_\u001b[0m \u001b[0;34m=\u001b[0m \u001b[0mag__\u001b[0m\u001b[0;34m.\u001b[0m\u001b[0mconverted_call\u001b[0m\u001b[0;34m(\u001b[0m\u001b[0mag__\u001b[0m\u001b[0;34m.\u001b[0m\u001b[0mld\u001b[0m\u001b[0;34m(\u001b[0m\u001b[0mstep_function\u001b[0m\u001b[0;34m)\u001b[0m\u001b[0;34m,\u001b[0m \u001b[0;34m(\u001b[0m\u001b[0mag__\u001b[0m\u001b[0;34m.\u001b[0m\u001b[0mld\u001b[0m\u001b[0;34m(\u001b[0m\u001b[0mself\u001b[0m\u001b[0;34m)\u001b[0m\u001b[0;34m,\u001b[0m \u001b[0mag__\u001b[0m\u001b[0;34m.\u001b[0m\u001b[0mld\u001b[0m\u001b[0;34m(\u001b[0m\u001b[0miterator\u001b[0m\u001b[0;34m)\u001b[0m\u001b[0;34m)\u001b[0m\u001b[0;34m,\u001b[0m \u001b[0;32mNone\u001b[0m\u001b[0;34m,\u001b[0m \u001b[0mfscope\u001b[0m\u001b[0;34m)\u001b[0m\u001b[0;34m\u001b[0m\u001b[0;34m\u001b[0m\u001b[0m\n\u001b[0m\u001b[1;32m     16\u001b[0m                 \u001b[0;32mexcept\u001b[0m\u001b[0;34m:\u001b[0m\u001b[0;34m\u001b[0m\u001b[0;34m\u001b[0m\u001b[0m\n\u001b[1;32m     17\u001b[0m                     \u001b[0mdo_return\u001b[0m \u001b[0;34m=\u001b[0m \u001b[0;32mFalse\u001b[0m\u001b[0;34m\u001b[0m\u001b[0;34m\u001b[0m\u001b[0m\n",
            "\u001b[0;31mValueError\u001b[0m: in user code:\n\n    File \"/usr/local/lib/python3.10/dist-packages/keras/src/engine/training.py\", line 1401, in train_function  *\n        return step_function(self, iterator)\n    File \"/usr/local/lib/python3.10/dist-packages/keras/src/engine/training.py\", line 1384, in step_function  **\n        outputs = model.distribute_strategy.run(run_step, args=(data,))\n    File \"/usr/local/lib/python3.10/dist-packages/keras/src/engine/training.py\", line 1373, in run_step  **\n        outputs = model.train_step(data)\n    File \"/usr/local/lib/python3.10/dist-packages/keras/src/engine/training.py\", line 1150, in train_step\n        y_pred = self(x, training=True)\n    File \"/usr/local/lib/python3.10/dist-packages/keras/src/utils/traceback_utils.py\", line 70, in error_handler\n        raise e.with_traceback(filtered_tb) from None\n    File \"/usr/local/lib/python3.10/dist-packages/keras/src/engine/input_spec.py\", line 253, in assert_input_compatibility\n        raise ValueError(\n\n    ValueError: Exception encountered when calling layer 'sequential_14' (type Sequential).\n    \n    Input 0 of layer \"dense_20\" is incompatible with the layer: expected min_ndim=2, found ndim=1. Full shape received: (None,)\n    \n    Call arguments received by layer 'sequential_14' (type Sequential):\n      • inputs=tf.Tensor(shape=(None,), dtype=int32)\n      • training=True\n      • mask=None\n"
          ]
        }
      ]
    },
    {
      "cell_type": "code",
      "source": [],
      "metadata": {
        "id": "CYvbP-lszIXt"
      },
      "execution_count": null,
      "outputs": []
    }
  ]
}